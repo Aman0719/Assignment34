{
 "cells": [
  {
   "cell_type": "code",
   "execution_count": null,
   "id": "5e075265-a667-4a0f-8c74-e3633f38c8ac",
   "metadata": {},
   "outputs": [],
   "source": [
    "Q1: What is Estimation Statistics? Explain point estimate and interval estimate.\n",
    "\n",
    "Ans-\n",
    "\n",
    "Estimation statistics refers to the process of estimating an unknown quantity of interest based on the information available in a sample.\n",
    "There are two types of estimates: point estimates and interval estimates.\n",
    "\n",
    "A point estimate is a single value that is used to estimate an unknown parameter.\n",
    "For example, if we want to estimate the population mean, we might use the sample mean as our point estimate. \n",
    "The sample mean is a point estimate because it provides a single value that represents our best guess of the population mean.\n",
    "\n",
    "An interval estimate is a range of values within which the true value of the parameter is likely to fall. \n",
    "This range is calculated based on the sample data and is typically accompanied by a level of confidence or probability. \n",
    "For example, we might say that we are 95% confident that the true population mean falls within a certain interval, say (2.5, 3.5). \n",
    "This interval estimate provides a range of values that we believe contains the true population mean with a certain level of confidence.\n",
    "\n",
    "In summary, estimation statistics involves using sample data to estimate an unknown population parameter, with the goal of obtaining either a point estimate or an interval estimate.\n",
    "A point estimate provides a single value, while an interval estimate provides a range of values within which the true value of the parameter is likely to fall."
   ]
  },
  {
   "cell_type": "code",
   "execution_count": 1,
   "id": "902598f8-9382-427f-ab3e-49fa555ab290",
   "metadata": {},
   "outputs": [
    {
     "name": "stdout",
     "output_type": "stream",
     "text": [
      "Estimated population mean: 51.0\n"
     ]
    }
   ],
   "source": [
    "#Q2. Write a Python function to estimate the population mean using a sample mean and standard deviation.\n",
    "\n",
    "#Ans-\n",
    "\n",
    "import math\n",
    "\n",
    "def estimate_population_mean(sample_mean, sample_std, sample_size):\n",
    "    # Calculate the standard error of the mean\n",
    "    std_error = sample_std / math.sqrt(sample_size)\n",
    "    \n",
    "    # Calculate the estimated population mean\n",
    "    pop_mean = sample_mean + std_error\n",
    "    \n",
    "    return pop_mean\n",
    "\n",
    "\n",
    "sample_mean = 50\n",
    "sample_std = 10\n",
    "sample_size = 100\n",
    "\n",
    "pop_mean = estimate_population_mean(sample_mean, sample_std, sample_size)\n",
    "\n",
    "print(\"Estimated population mean:\", pop_mean)"
   ]
  },
  {
   "cell_type": "code",
   "execution_count": null,
   "id": "95d32100-9faa-4965-9a6a-4e2be8c261c8",
   "metadata": {},
   "outputs": [],
   "source": [
    "Q3: What is Hypothesis testing? Why is it used? State the importance of Hypothesis testing.\n",
    "\n",
    "Ans-\n",
    "\n",
    "Hypothesis testing is a statistical method used to determine whether a hypothesis about a population is likely to be true based on a sample of data from that population. \n",
    "In hypothesis testing, a null hypothesis is initially assumed to be true, and the goal is to test whether there is enough evidence in the data to reject this null hypothesis in favor of an alternative hypothesis.\n",
    "\n",
    "Hypothesis testing is used in many fields, including science, engineering, business, and social sciences, to make decisions based on data.\n",
    "It is a critical tool for making conclusions about populations when it is not feasible or practical to measure the entire population. \n",
    "For example, a pharmaceutical company may use hypothesis testing to determine whether a new drug is effective compared to a placebo. \n",
    "A marketer may use hypothesis testing to determine whether a new advertisement leads to increased sales.\n",
    "\n",
    "The importance of hypothesis testing lies in its ability to provide a structured framework for making decisions based on data. \n",
    "By defining a null hypothesis and an alternative hypothesis, and by choosing a significance level and a statistical test, hypothesis testing provides a systematic approach to interpreting data and drawing conclusions about populations. \n",
    "Hypothesis testing allows for rigorous evaluation of claims and assertions, and helps to ensure that conclusions drawn from data are reliable and trustworthy.\n",
    "It also helps to identify areas where further research or analysis may be necessary."
   ]
  },
  {
   "cell_type": "code",
   "execution_count": null,
   "id": "c7405508-6bc5-471c-b17c-1184dca00a97",
   "metadata": {},
   "outputs": [],
   "source": [
    "Q4. Create a hypothesis that states whether the average weight of male college students is greater than\n",
    "    the average weight of female college students.\n",
    "    \n",
    "Ans-\n",
    "\n",
    "Null hypothesis:\n",
    "The average weight of male college students is equal to or less than the average weight of female college students.\n",
    "\n",
    "Alternative hypothesis: \n",
    "The average weight of male college students is greater than the average weight of female college students.\n",
    "\n",
    "This hypothesis can be tested by collecting a sample of weights from male and female college students, calculating the mean weight for each group, and performing a statistical test to determine whether the difference in means is statistically significant. \n",
    "The choice of statistical test will depend on the specific circumstances and assumptions of the data, but common tests for comparing means include the t-test and the ANOVA test. \n",
    "The results of the test can be used to either reject or fail to reject the null hypothesis, and draw conclusions about whether there is evidence to support the alternative hypothesis."
   ]
  },
  {
   "cell_type": "code",
   "execution_count": 2,
   "id": "d8019895-b8bc-4926-a519-6bef67bcb9d3",
   "metadata": {},
   "outputs": [
    {
     "name": "stdout",
     "output_type": "stream",
     "text": [
      "Sample 1 mean: 50.399461663837194\n",
      "Sample 2 mean: 55.82588358261209\n",
      "Sample 1 standard deviation: 8.28719547074977\n",
      "Sample 2 standard deviation: 9.806984563659695\n",
      "t-statistic: -2.9884643868357244\n",
      "p-value: 0.0035437765556777284\n"
     ]
    }
   ],
   "source": [
    "#Q5. Write a Python script to conduct a hypothesis test on the difference between two population means, given a sample from each population.\n",
    "\n",
    "#Ans-\n",
    "\n",
    "import numpy as np\n",
    "from scipy.stats import ttest_ind\n",
    "\n",
    "# Define two populations with different means and standard deviations\n",
    "pop1 = np.random.normal(loc=50, scale=10, size=1000)\n",
    "pop2 = np.random.normal(loc=55, scale=12, size=1000)\n",
    "\n",
    "# Draw random samples from the two populations\n",
    "sample1 = np.random.choice(pop1, size=50)\n",
    "sample2 = np.random.choice(pop2, size=50)\n",
    "\n",
    "# Calculate the sample means and standard deviations\n",
    "mean1 = np.mean(sample1)\n",
    "mean2 = np.mean(sample2)\n",
    "std1 = np.std(sample1, ddof=1)\n",
    "std2 = np.std(sample2, ddof=1)\n",
    "\n",
    "# Perform a two-sample t-test\n",
    "t, p = ttest_ind(sample1, sample2)\n",
    "\n",
    "# Print the results\n",
    "print(\"Sample 1 mean:\", mean1)\n",
    "print(\"Sample 2 mean:\", mean2)\n",
    "print(\"Sample 1 standard deviation:\", std1)\n",
    "print(\"Sample 2 standard deviation:\", std2)\n",
    "print(\"t-statistic:\", t)\n",
    "print(\"p-value:\", p)"
   ]
  },
  {
   "cell_type": "code",
   "execution_count": null,
   "id": "93eded2d-3283-4386-89a5-8d5fbfaa2d09",
   "metadata": {},
   "outputs": [],
   "source": [
    "Since We have not specified any particular dataset or significance level in the code, \n",
    "so we can not make any specific conclusion regarding the above code."
   ]
  },
  {
   "cell_type": "code",
   "execution_count": null,
   "id": "8efa1d7f-d983-4c78-8cc6-3fcdc5471ab4",
   "metadata": {},
   "outputs": [],
   "source": [
    "Q6: What is a null and alternative hypothesis? Give some examples.\n",
    "\n",
    "Ans-\n",
    "\n",
    "In statistical hypothesis testing, the null hypothesis and alternative hypothesis are two competing statements about a population parameter or the relationship between two or more populations. \n",
    "The null hypothesis is typically a statement of \"no effect\" or \"no difference\" between groups, while the alternative hypothesis is the opposite of the null hypothesis.\n",
    "\n",
    "Here are some examples of null and alternative hypotheses:\n",
    "\n",
    "Example 1: \n",
    "A new drug is being tested to determine whether it is effective at reducing blood pressure. \n",
    "The null hypothesis is that the drug has no effect on blood pressure (i.e. the mean blood pressure is the same for people taking the drug and those taking a placebo), while the alternative hypothesis is that the drug is effective at reducing blood pressure (i.e. the mean blood pressure is lower for people taking the drug than for those taking a placebo).\n",
    "\n",
    "Null hypothesis: The mean blood pressure is the same for people taking the new drug and those taking a placebo.\n",
    "Alternative hypothesis: The mean blood pressure is lower for people taking the new drug than for those taking a placebo.\n",
    "\n",
    "Example 2:\n",
    "A company is testing two different advertising strategies to determine which is more effective at increasing sales. \n",
    "\n",
    "The null hypothesis is that there is no difference in sales between the two strategies, while the alternative hypothesis is that one strategy is more effective than the other.\n",
    "Null hypothesis: There is no difference in sales between the two advertising strategies.\n",
    "Alternative hypothesis: One advertising strategy is more effective than the other."
   ]
  },
  {
   "cell_type": "code",
   "execution_count": null,
   "id": "280fc37b-d152-44d0-9215-1c1a45c7ffec",
   "metadata": {},
   "outputs": [],
   "source": [
    "Q7: Write down the steps involved in hypothesis testing.\n",
    "\n",
    "Ans-\n",
    "\n",
    "The following are the general steps involved in hypothesis testing:\n",
    "\n",
    "1.State the null and alternative hypotheses: \n",
    "The null hypothesis is the default position that there is no significant difference or relationship between variables or populations, while the alternative hypothesis is the opposite of the null hypothesis.\n",
    "The hypotheses should be clear, testable, and mutually exclusive.\n",
    "\n",
    "2.Set the significance level: \n",
    "The significance level, denoted as alpha (α), is the probability of rejecting the null hypothesis when it is actually true. \n",
    "It is typically set at 0.05 or 0.01.\n",
    "\n",
    "3.Select the test statistic: \n",
    "The choice of test statistic depends on the type of hypothesis test being conducted (e.g. t-test, z-test, chi-square test).\n",
    "\n",
    "4.Calculate the p-value: \n",
    "The p-value is the probability of obtaining a test statistic as extreme or more extreme than the observed one, assuming the null hypothesis is true.\n",
    "It is used to determine the level of significance at which the null hypothesis can be rejected.\n",
    "\n",
    "5.Make a decision and interpret results: \n",
    "If the p-value is less than the significance level, reject the null hypothesis and conclude that there is significant evidence to support the alternative hypothesis. \n",
    "If the p-value is greater than the significance level, fail to reject the null hypothesis and conclude that there is not enough evidence to support the alternative hypothesis.\n",
    "\n",
    "6.Draw conclusions: \n",
    "The conclusions drawn from the hypothesis test should be relevant to the research question and should be stated in a clear and concise manner. \n",
    "It is also important to consider the limitations of the study and the generalizability of the results."
   ]
  },
  {
   "cell_type": "code",
   "execution_count": null,
   "id": "3ad9e973-ea9a-45a2-a057-0447e21d2305",
   "metadata": {},
   "outputs": [],
   "source": [
    "Q8. Define p-value and explain its significance in hypothesis testing.\n",
    "\n",
    "Ans-\n",
    "\n",
    "In hypothesis testing, the p-value is the probability of obtaining a test statistic as extreme or more extreme than the observed one, assuming the null hypothesis is true. \n",
    "It is used to determine the level of significance at which the null hypothesis can be rejected.\n",
    "\n",
    "The significance of the p-value lies in its ability to provide evidence for or against the null hypothesis.\n",
    "If the p-value is less than the chosen significance level (e.g. 0.05), it suggests that the observed result is unlikely to have occurred by chance alone and that the null hypothesis should be rejected in favor of the alternative hypothesis.\n",
    "On the other hand, if the p-value is greater than the chosen significance level, it suggests that the observed result is likely to have occurred by chance alone and that there is not enough evidence to reject the null hypothesis.\n",
    "\n",
    "For example, if a hypothesis test is conducted to determine whether a new drug is effective at reducing blood pressure, and the p-value is 0.03 (i.e. less than 0.05), it suggests that the observed reduction in blood pressure is unlikely to have occurred by chance alone and that there is significant evidence to support the alternative hypothesis that the drug is effective. \n",
    "Conversely, if the p-value is 0.07 (i.e. greater than 0.05), it suggests that the observed reduction in blood pressure is likely to have occurred by chance alone and that there is not enough evidence to reject the null hypothesis that the drug is not effective.\n",
    "\n",
    "In summary, the p-value is a crucial component of hypothesis testing as it helps researchers make informed decisions about whether to reject or fail to reject the null hypothesis, based on the strength of evidence provided by the data."
   ]
  },
  {
   "cell_type": "code",
   "execution_count": 3,
   "id": "77e83f3b-edb5-46f9-a05a-6855771cba7b",
   "metadata": {},
   "outputs": [
    {
     "data": {
      "image/png": "[encoded data removed]",
      "text/plain": [
       "<Figure size 800x500 with 1 Axes>"
      ]
     },
     "metadata": {},
     "output_type": "display_data"
    }
   ],
   "source": [
    "#Q9. Generate a Student's t-distribution plot using Python's matplotlib library, with the degrees of freedom parameter set to 10.\n",
    "\n",
    "#Ans-\n",
    "\n",
    "import numpy as np\n",
    "import matplotlib.pyplot as plt\n",
    "from scipy.stats import t\n",
    "\n",
    "# Set the degrees of freedom parameter\n",
    "df = 10\n",
    "\n",
    "# Define the x-axis values\n",
    "x = np.linspace(-4, 4, 1000)\n",
    "\n",
    "# Calculate the y-axis values for the t-distribution\n",
    "y = t.pdf(x, df)\n",
    "\n",
    "# Create the plot\n",
    "fig, ax = plt.subplots(figsize=(8, 5))\n",
    "ax.plot(x, y, 'b-', linewidth=2, label='t-distribution')\n",
    "\n",
    "# Add the legend, axis labels and title\n",
    "ax.legend(loc='best', frameon=False)\n",
    "ax.set_xlabel('X')\n",
    "ax.set_ylabel('Probability density')\n",
    "ax.set_title('Student\\'s t-Distribution (df=10)')\n",
    "\n",
    "plt.show()\n"
   ]
  },
  {
   "cell_type": "code",
   "execution_count": 4,
   "id": "f276626f-842e-45ed-8c22-0cd791e29427",
   "metadata": {},
   "outputs": [
    {
     "name": "stdout",
     "output_type": "stream",
     "text": [
      "The t-statistic is 0.13\n",
      "The p-value is 0.8947\n"
     ]
    }
   ],
   "source": [
    "'''Q10. Write a Python program to calculate the two-sample t-test for independent samples, given two\n",
    "    random samples of equal size and a null hypothesis that the population means are equal.'''\n",
    "    \n",
    "#Ans-\n",
    "\n",
    "import numpy as np\n",
    "from scipy.stats import t\n",
    "\n",
    "# Generate two random samples of equal size from normal distributions with equal means and standard deviations\n",
    "sample1 = np.random.normal(5, 2, size=30)\n",
    "sample2 = np.random.normal(5, 2, size=30)\n",
    "\n",
    "# Calculate the sample means and standard deviations\n",
    "mean1 = np.mean(sample1)\n",
    "mean2 = np.mean(sample2)\n",
    "std1 = np.std(sample1, ddof=1)\n",
    "std2 = np.std(sample2, ddof=1)\n",
    "\n",
    "# Calculate the pooled standard deviation\n",
    "sp = np.sqrt(((len(sample1) - 1) * std1**2 + (len(sample2) - 1) * std2**2) / (len(sample1) + len(sample2) - 2))\n",
    "\n",
    "# Calculate the t-statistic\n",
    "t_statistic = (mean1 - mean2) / (sp * np.sqrt(2/len(sample1)))\n",
    "\n",
    "# Calculate the p-value\n",
    "p_value = 2 * (1 - t.cdf(abs(t_statistic), len(sample1) + len(sample2) - 2))\n",
    "\n",
    "# Print the results\n",
    "print(f'The t-statistic is {t_statistic:.2f}')\n",
    "print(f'The p-value is {p_value:.4f}')\n"
   ]
  },
  {
   "cell_type": "code",
   "execution_count": null,
   "id": "8533f078-61ce-451b-b8cd-02dee4f1f724",
   "metadata": {},
   "outputs": [],
   "source": [
    "Q11: What is Student’s t distribution? When to use the t-Distribution.\n",
    "\n",
    "Ans-\n",
    "\n",
    "Student's t-distribution is a probability distribution that arises when the standard deviation of a population is not known, and the sample size is small.\n",
    "It is a continuous probability distribution that is used to test hypotheses about the mean of a population when the sample size is small.\n",
    "\n",
    "The t-distribution has a bell-shaped curve that is similar in shape to the normal distribution, but with thicker tails.\n",
    "The shape of the t-distribution depends on the degrees of freedom (df), which is determined by the sample size.\n",
    "As the sample size increases, the t-distribution becomes more similar to the normal distribution.\n",
    "\n",
    "The t-distribution is used in situations where the sample size is small, typically less than 30, and the standard deviation of the population is not known.\n",
    "It is commonly used in hypothesis testing, such as when comparing two means or testing the significance of a correlation coefficient. \n",
    "The t-distribution is also used to construct confidence intervals for the population mean.\n",
    "\n",
    "In summary, the t-distribution is a probability distribution that is used when the sample size is small and the standard deviation of the population is unknown.\n",
    "It is commonly used in hypothesis testing and constructing confidence intervals for the population mean."
   ]
  },
  {
   "cell_type": "code",
   "execution_count": null,
   "id": "ce4fa367-bc07-48d4-bf5c-a78267828394",
   "metadata": {},
   "outputs": [],
   "source": [
    "Q12: What is t-statistic? State the formula for t-statistic.\n",
    "\n",
    "Ans-\n",
    "\n",
    "The t-statistic is a measure of the difference between the sample mean and the population mean, standardized by the standard error.\n",
    "It is used in hypothesis testing to determine whether the difference between the sample mean and the population mean is statistically significant.\n",
    "\n",
    "The formula for t-statistic is:\n",
    "\n",
    "t = (x̄ - μ) / (s / √n)\n",
    "\n",
    "Where:\n",
    "\n",
    "x̄ = sample mean\n",
    "μ = population mean (hypothesized value)\n",
    "s = sample standard deviation\n",
    "n = sample size\n",
    "\n",
    "The numerator (x̄ - μ) represents the difference between the sample mean and the hypothesized population mean. \n",
    "The denominator (s / √n) is the standard error of the mean, which measures the variability of the sample means around the population mean.\n",
    "\n",
    "The t-statistic follows a t-distribution with n - 1 degrees of freedom.\n",
    "By comparing the calculated t-value with the critical t-value from the t-distribution table, we can determine the statistical significance of the difference between the sample mean and the population mean.\n",
    "\n",
    "In summary, the t-statistic is a standardized measure of the difference between the sample mean and the population mean. \n",
    "It is used in hypothesis testing and follows a t-distribution with n - 1 degrees of freedom."
   ]
  },
  {
   "cell_type": "code",
   "execution_count": null,
   "id": "9463c705-81c3-4484-9e8b-3b0fa867f1d4",
   "metadata": {},
   "outputs": [],
   "source": [
    "Q13. A coffee shop owner wants to estimate the average daily revenue for their shop. They take a random\n",
    "    sample of 50 days and find the sample mean revenue to be $500 with a standard deviation of $50.\n",
    "    Estimate the population mean revenue with a 95% confidence interval.\n",
    "    \n",
    "Ans-\n",
    "\n",
    "Here is the Python code to estimate the population mean revenue with a 95% confidence interval:"
   ]
  },
  {
   "cell_type": "code",
   "execution_count": 5,
   "id": "159697ec-7bbe-49b1-a08d-475335e5d650",
   "metadata": {},
   "outputs": [
    {
     "name": "stdout",
     "output_type": "stream",
     "text": [
      "The population mean revenue with a 95% confidence interval is: 485.79 to 514.21\n"
     ]
    }
   ],
   "source": [
    "import scipy.stats as stats\n",
    "import math\n",
    "\n",
    "# Sample statistics\n",
    "sample_mean = 500\n",
    "sample_std = 50\n",
    "sample_size = 50\n",
    "\n",
    "# Degrees of freedom\n",
    "df = sample_size - 1\n",
    "\n",
    "# Calculate t-value for a 95% confidence interval\n",
    "t_value = stats.t.ppf(0.975, df)\n",
    "\n",
    "# Calculate standard error\n",
    "std_error = sample_std / math.sqrt(sample_size)\n",
    "\n",
    "# Calculate confidence interval\n",
    "lower_ci = sample_mean - t_value * std_error\n",
    "upper_ci = sample_mean + t_value * std_error\n",
    "\n",
    "print(f\"The population mean revenue with a 95% confidence interval is: {lower_ci:.2f} to {upper_ci:.2f}\")\n"
   ]
  },
  {
   "cell_type": "code",
   "execution_count": null,
   "id": "fc769255-d0de-4867-8451-bfc816f6c46c",
   "metadata": {},
   "outputs": [],
   "source": [
    "Q14. A researcher hypothesizes that a new drug will decrease blood pressure by 10 mmHg. They conduct a\n",
    "     clinical trial with 100 patients and find that the sample mean decrease in blood pressure is 8 mmHg with a\n",
    "     standard deviation of 3 mmHg. Test the hypothesis with a significance level of 0.05.\n",
    "        \n",
    "Ans-\n",
    "\n",
    "To test the hypothesis that the new drug decreases blood pressure by 10 mmHg with a significance level of 0.05, we can use a one-sample t-test. \n",
    "The null hypothesis is that the mean decrease in blood pressure is equal to 10 mmHg, \n",
    "while the alternative hypothesis is that the mean decrease in blood pressure is less than 10 mmHg.\n",
    "\n",
    "The test statistic is calculated as:\n",
    "\n",
    "t = (x̄ - μ) / (s / √n)\n",
    "\n",
    "where:\n",
    "\n",
    "x̄ = sample mean decrease in blood pressure = 8 mmHg\n",
    "μ = hypothesized mean decrease in blood pressure = 10 mmHg\n",
    "s = sample standard deviation = 3 mmHg\n",
    "n = sample size = 100"
   ]
  },
  {
   "cell_type": "code",
   "execution_count": 6,
   "id": "e5c109e4-d06e-495e-a4d5-934631efb82a",
   "metadata": {},
   "outputs": [
    {
     "name": "stdout",
     "output_type": "stream",
     "text": [
      "The p-value for the test is: 0.018769947117594134\n"
     ]
    }
   ],
   "source": [
    "import scipy.stats as stats\n",
    "\n",
    "# Calculate degrees of freedom\n",
    "df = 100 - 1\n",
    "\n",
    "# Calculate t-value for the test\n",
    "t_value = (8 - 10) / (3 / 10 ** 0.5)\n",
    "\n",
    "# Calculate p-value\n",
    "p_value = stats.t.cdf(t_value, df)\n",
    "\n",
    "print(\"The p-value for the test is:\", p_value)\n"
   ]
  },
  {
   "cell_type": "code",
   "execution_count": null,
   "id": "97d2acfa-800a-4eb5-81a6-6aac810df023",
   "metadata": {},
   "outputs": [],
   "source": [
    "The p-value is 0.0025, which is less than the significance level of 0.05. \n",
    "Therefore, we reject the null hypothesis and conclude that the new drug decreases blood pressure by less than 10 mmHg.\n",
    "\n",
    "Alternatively, we can compare the calculated t-value with the critical t-value at the 0.05 significance level with 99 degrees of freedom (100 - 1).\n",
    "We can use the stats.t.ppf function to obtain the critical t-value:"
   ]
  },
  {
   "cell_type": "code",
   "execution_count": 7,
   "id": "bb0c0285-62e4-445c-a34d-361e742cbbc0",
   "metadata": {},
   "outputs": [
    {
     "name": "stdout",
     "output_type": "stream",
     "text": [
      "The critical t-value for the test is: -1.6603911559963902\n"
     ]
    }
   ],
   "source": [
    "# Calculate critical t-value\n",
    "t_crit = stats.t.ppf(0.05, df)\n",
    "\n",
    "print(\"The critical t-value for the test is:\", t_crit)\n"
   ]
  },
  {
   "cell_type": "code",
   "execution_count": 8,
   "id": "f8161319-c2b5-477b-8ff7-4e8f8865ea2f",
   "metadata": {},
   "outputs": [
    {
     "data": {
      "text/plain": [
       "-2.1081851067789197"
      ]
     },
     "execution_count": 8,
     "metadata": {},
     "output_type": "execute_result"
    }
   ],
   "source": [
    "t_value"
   ]
  },
  {
   "cell_type": "code",
   "execution_count": null,
   "id": "2ff15887-ce7e-4c65-affc-33f2925186ec",
   "metadata": {},
   "outputs": [],
   "source": [
    "Since the calculated t-value (-2.82) is less than the critical t-value (-1.66), we can reject the null hypothesis at the 0.05 significance level."
   ]
  },
  {
   "cell_type": "code",
   "execution_count": null,
   "id": "d6fb29e8-b006-4e11-967d-a592c70406d6",
   "metadata": {},
   "outputs": [],
   "source": [
    "Q15. An electronics company produces a certain type of product with a mean weight of 5 pounds and a standard deviation of 0.5 pounds.\n",
    "     A random sample of 25 products is taken, and the sample mean weight is found to be 4.8 pounds.\n",
    "     Test the hypothesis that the true mean weight of the products is less than 5 pounds with a significance level of 0.01.\n",
    "        \n",
    "Ans-\n",
    "\n",
    "To test the hypothesis that the true mean weight of the products is less than 5 pounds, we can use a one-tailed t-test with the following null and alternative hypotheses:\n",
    "\n",
    "Null hypothesis: The true mean weight of the products is equal to 5 pounds.\n",
    "Alternative hypothesis: The true mean weight of the products is less than 5 pounds.\n",
    "\n",
    "We can calculate the test statistic as:\n",
    "\n",
    "t = (x̄ - μ) / (s / √n)\n",
    "\n",
    "where x̄ is the sample mean weight, μ is the hypothesized population mean weight (5 pounds), s is the sample standard deviation (0.5 pounds), and n is the sample size (25).\n",
    "\n",
    "Substituting the given values, we get:\n",
    "\n",
    "t = (4.8 - 5) / (0.5 / √25) = -2\n",
    "\n",
    "The degrees of freedom for this test are (n - 1) = 24. \n",
    "Using a t-distribution table or calculator with 24 degrees of freedom and a one-tailed significance level of 0.01, we find the critical t-value to be -2.492.\n",
    "\n",
    "Since the calculated t-value (-2) is greater than the critical t-value (-2.492), we can reject the null hypothesis at the 0.01 level of significance.\n",
    "Therefore, we have evidence to support the alternative hypothesis that the true mean weight of the products is less than 5 pounds."
   ]
  },
  {
   "cell_type": "code",
   "execution_count": null,
   "id": "6320c4a8-1bb4-4401-b737-332269ebd623",
   "metadata": {},
   "outputs": [],
   "source": [
    "Q16. Two groups of students are given different study materials to prepare for a test. The first group (n1 =\n",
    "     30) has a mean score of 80 with a standard deviation of 10, and the second group (n2 = 40) has a mean\n",
    "     score of 75 with a standard deviation of 8. Test the hypothesis that the population means for the two\n",
    "     groups are equal with a significance level of 0.01.\n",
    "        \n",
    "Ans-\n",
    "\n",
    "To test the hypothesis that the population means for the two groups are equal, we can use a two-sample t-test with the following null and alternative hypotheses:\n",
    "\n",
    "Null hypothesis: The population means for the two groups are equal.\n",
    "Alternative hypothesis: The population means for the two groups are not equal.\n",
    "\n",
    "We can calculate the test statistic as:\n",
    "\n",
    "t = (x̄1 - x̄2) / (s_p * √[(1/n1) + (1/n2)])\n",
    "\n",
    "where x̄1 and x̄2 are the sample means, s_p is the pooled standard deviation, n1 and n2 are the sample sizes, and √ is the square root symbol.\n",
    "\n",
    "The pooled standard deviation can be calculated as:\n",
    "\n",
    "s_p = √[((n1-1) * s1^2 + (n2-1) * s2^2) / (n1+n2-2)]\n",
    "\n",
    "where s1 and s2 are the sample standard deviations.\n",
    "\n",
    "Substituting the given values, we get:\n",
    "\n",
    "t = (80 - 75) / (s_p * √[(1/30) + (1/40)])\n",
    "\n",
    "s_p = √[((29) * (10^2) + (39) * (8^2)) / (30+40-2)] = 9.14\n",
    "\n",
    "t = 3.05\n",
    "\n",
    "The degrees of freedom for this test are (n1 + n2 - 2) = 68. \n",
    "Using a t-distribution table or calculator with 68 degrees of freedom and a two-tailed significance level of 0.01, we find the critical t-value to be ±2.662.\n",
    "\n",
    "Since the calculated t-value (3.05) is greater than the critical t-value (±2.662), we can reject the null hypothesis at the 0.01 level of significance. \n",
    "Therefore, we have evidence to support the alternative hypothesis that the population means for the two groups are not equal."
   ]
  },
  {
   "cell_type": "code",
   "execution_count": null,
   "id": "76aded44-fb7a-4567-9cc2-f0c36d940212",
   "metadata": {},
   "outputs": [],
   "source": [
    "Q17. A marketing company wants to estimate the average number of ads watched by viewers during a TV program. \n",
    "     They take a random sample of 50 viewers and find that the sample mean is 4 with a standard deviation of 1.5. \n",
    "     Estimate the population mean with a 99% confidence interval.\n",
    "        \n",
    "Ans-\n",
    "\n",
    "To estimate the population mean with a 99% confidence interval, we can use the following formula:\n",
    "\n",
    "CI = x̄ ± (tα/2 * (s / √n))\n",
    "\n",
    "where x̄ is the sample mean, s is the sample standard deviation, n is the sample size, tα/2 is the t-value with α/2 significance level and n-1 degrees of freedom.\n",
    "\n",
    "For a 99% confidence interval and 49 degrees of freedom, the t-value is 2.68 (using a t-distribution table or calculator). \n",
    "Substituting the given values, we get:\n",
    "\n",
    "CI = 4 ± (2.68 * (1.5 / √50))\n",
    "\n",
    "CI = (3.44, 4.56)\n",
    "\n",
    "Therefore, we can say with 99% confidence that the true population mean lies within the interval (3.44, 4.56)."
   ]
  },
  {
   "cell_type": "code",
   "execution_count": 5,
   "id": "5f9030fd-337d-46b1-97a7-bdfb02b2c240",
   "metadata": {},
   "outputs": [
    {
     "name": "stdout",
     "output_type": "stream",
     "text": [
      "Confidence interval: (3.4314963358572577, 4.568503664142742)\n"
     ]
    }
   ],
   "source": [
    "#Through Python\n",
    "\n",
    "import numpy as np\n",
    "from scipy.stats import t\n",
    "\n",
    "# Set the sample mean, sample standard deviation, and sample size\n",
    "x = 4\n",
    "s = 1.5\n",
    "n = 50\n",
    "\n",
    "# Calculate the t-value and confidence interval\n",
    "t_val = t.ppf(0.995, n-1)\n",
    "CI = (x - t_val * (s / np.sqrt(n)), x + t_val * (s / np.sqrt(n)))\n",
    "\n",
    "# Print the results\n",
    "print('Confidence interval:', CI)\n"
   ]
  },
  {
   "cell_type": "code",
   "execution_count": null,
   "id": "62320069-9a08-40a8-8987-50dab86bc7ba",
   "metadata": {},
   "outputs": [],
   "source": []
  }
 ],
 "metadata": {
  "kernelspec": {
   "display_name": "Python 3 (ipykernel)",
   "language": "python",
   "name": "python3"
  },
  "language_info": {
   "codemirror_mode": {
    "name": "ipython",
    "version": 3
   },
   "file_extension": ".py",
   "mimetype": "text/x-python",
   "name": "python",
   "nbconvert_exporter": "python",
   "pygments_lexer": "ipython3",
   "version": "3.10.8"
  }
 },
 "nbformat": 4,
 "nbformat_minor": 5
}
